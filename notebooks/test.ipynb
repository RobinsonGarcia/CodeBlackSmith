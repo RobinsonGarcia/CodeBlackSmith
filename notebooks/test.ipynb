{
 "cells": [
  {
   "cell_type": "code",
   "execution_count": 1,
   "metadata": {},
   "outputs": [
    {
     "name": "stdout",
     "output_type": "stream",
     "text": [
      "/Users/robinsongarcia/projects/CodePromptForge\n"
     ]
    },
    {
     "name": "stderr",
     "output_type": "stream",
     "text": [
      "/Users/robinsongarcia/.pyenv/versions/3.12.4/envs/promptforge/lib/python3.12/site-packages/IPython/core/magics/osm.py:417: UserWarning: This is now an optional IPython functionality, setting dhist requires you to install the `pickleshare` library.\n",
      "  self.shell.db['dhist'] = compress_dhist(dhist)[-100:]\n"
     ]
    }
   ],
   "source": [
    "cd .."
   ]
  },
  {
   "cell_type": "code",
   "execution_count": null,
   "metadata": {
    "scrolled": true
   },
   "outputs": [],
   "source": [
    "!pip install -e '.[assistant]'"
   ]
  },
  {
   "cell_type": "code",
   "execution_count": null,
   "metadata": {},
   "outputs": [],
   "source": [
    "from codepromptforge.main import CodePromptForge\n",
    "\n",
    "forge = CodePromptForge(\".\")\n",
    "\n",
    "forge.get_directory_tree(\".\")"
   ]
  },
  {
   "cell_type": "code",
   "execution_count": null,
   "metadata": {
    "scrolled": true
   },
   "outputs": [],
   "source": [
    "print(forge.get_file_content('codepromptforge/cli.py'))"
   ]
  },
  {
   "cell_type": "code",
   "execution_count": null,
   "metadata": {
    "scrolled": true
   },
   "outputs": [],
   "source": [
    "print(forge.get_files_recursively('codepromptforge/assistant'))"
   ]
  },
  {
   "cell_type": "code",
   "execution_count": null,
   "metadata": {},
   "outputs": [],
   "source": [
    "from codepromptforge.main import CodePromptForge\n",
    "\n",
    "forge = CodePromptForge()\n",
    "\n",
    "tools = forge.get_tools()\n",
    "for t in tools:\n",
    "    print(t.name)"
   ]
  },
  {
   "cell_type": "code",
   "execution_count": 2,
   "metadata": {},
   "outputs": [
    {
     "name": "stdout",
     "output_type": "stream",
     "text": [
      "['react_assistant']\n"
     ]
    }
   ],
   "source": [
    "from codepromptforge.assistant import AssistantRegistry\n",
    "\n",
    "print(AssistantRegistry.list_assistants())"
   ]
  },
  {
   "cell_type": "code",
   "execution_count": 7,
   "metadata": {},
   "outputs": [],
   "source": [
    "from langchain_ollama import ChatOllama\n",
    "\n",
    "llm = ChatOllama(\n",
    "    model=\"llama3.2:3b-instruct-fp16\",\n",
    "    temperature=0,\n",
    "    num_ctx=80000,\n",
    "    num_gpu=1,\n",
    "    # other params...\n",
    ")\n",
    "\n",
    "agent = AssistantRegistry.get_assistant('react_assistant', llm)"
   ]
  },
  {
   "cell_type": "code",
   "execution_count": 8,
   "metadata": {},
   "outputs": [],
   "source": [
    "def print_stream(stream):\n",
    "    for s in stream:\n",
    "        message = s[\"messages\"][-1]\n",
    "        if isinstance(message, tuple):\n",
    "            print(message)\n",
    "        else:\n",
    "            message.pretty_print()"
   ]
  },
  {
   "cell_type": "code",
   "execution_count": 13,
   "metadata": {},
   "outputs": [
    {
     "name": "stdout",
     "output_type": "stream",
     "text": [
      "================================\u001b[1m Human Message \u001b[0m=================================\n",
      "\n",
      "tell me more about OOP\n",
      "==================================\u001b[1m Ai Message \u001b[0m==================================\n",
      "Tool Calls:\n",
      "  duckduckgo_search (a991794f-b5ca-4ba9-8dd5-f47627d515c9)\n",
      " Call ID: a991794f-b5ca-4ba9-8dd5-f47627d515c9\n",
      "  Args:\n",
      "    query: OOP basics\n",
      "=================================\u001b[1m Tool Message \u001b[0m=================================\n",
      "Name: duckduckgo_search\n",
      "\n",
      "Object-Oriented Programming (OOP) is a game-changing and popular programming paradigm that streamlines software design and development by centering on objects, their unique qualities and actions. Almost every developer deal with OOP at some point in their career so it's quite essential to master OOP concepts. Object-oriented programming (OOP) is a fundamental programming paradigm used by nearly every developer at some point in their career. OOP is the most popular programming paradigm used for software development and is taught as the standard way to code for most of a programmer's educational career. Another popular programming paradigm is functional programming, but we won't get into that ... Object-Oriented Programming (OOP) in Java utilizes objects to encapsulate data and methods, promoting concepts like encapsulation, inheritance, ... An Object is a basic unit of Object-Oriented Programming that represents real-life entities. A typical Java program creates many objects, which as you know, interact by invoking methods. ... Object-oriented programming has four basic concepts: encapsulation, abstraction, inheritance and polymorphism. Knowing how they work together can help you understand the basic functionality of an OOP computer program. Review the explanation for each concept and explore examples to help you understand them: 1. Encapsulation Explore the fundamentals of Object-Oriented Programming (OOP), including its core principles like encapsulation, inheritance, and polymorphism. Learn about its benefits, examples of OOP languages, and how OOP powers scalable, efficient software development. ... Here are the 4 basics of object-oriented programming: ...\n",
      "==================================\u001b[1m Ai Message \u001b[0m==================================\n",
      "\n",
      "Here's a more detailed explanation of the four basic concepts of Object-Oriented Programming (OOP):\n",
      "\n",
      "1. **Encapsulation**: Encapsulation is the concept of bundling data and methods that operate on that data within a single unit, called a class or object. This helps to hide the internal details of an object from the outside world and only expose the necessary information through public methods.\n",
      "\n",
      "Example: A bank account class might encapsulate the account balance and provide methods for depositing and withdrawing money.\n",
      "\n",
      "2. **Abstraction**: Abstraction is the concept of showing only the necessary information to the outside world while hiding the internal details. This helps to reduce complexity and improve modularity in software design.\n",
      "\n",
      "Example: A car class might abstract away the complexities of its engine, transmission, and other components, allowing users to interact with it through a simple interface.\n",
      "\n",
      "3. **Inheritance**: Inheritance is the concept of creating a new class based on an existing class. The new class inherits the properties and behavior of the existing class and can also add new features or override existing ones.\n",
      "\n",
      "Example: A `Vehicle` class might inherit from a `Car` class, inheriting its properties and behavior, and then adding new features specific to vehicles, such as wheels and brakes.\n",
      "\n",
      "4. **Polymorphism**: Polymorphism is the concept of having multiple forms of a method or operator that can be used in different contexts. This allows for more flexibility and generic code.\n",
      "\n",
      "Example: A `Shape` class might have a `draw()` method that can be overridden by subclasses to provide different drawing behaviors, such as `Circle`, `Rectangle`, or `Triangle`.\n",
      "\n",
      "By understanding and applying these four basic concepts of OOP, developers can create more modular, maintainable, and scalable software systems.\n"
     ]
    }
   ],
   "source": [
    "inputs = {\"messages\": [(\"user\", \"tell me more about OOP\")]}\n",
    "config = {\"configurable\": {\"thread_id\": \"212\"}}\n",
    "print_stream(agent.stream(inputs, stream_mode=\"values\", config=config))"
   ]
  },
  {
   "cell_type": "code",
   "execution_count": null,
   "metadata": {},
   "outputs": [],
   "source": []
  }
 ],
 "metadata": {
  "kernelspec": {
   "display_name": "Python 3 (ipykernel)",
   "language": "python",
   "name": "python3"
  },
  "language_info": {
   "codemirror_mode": {
    "name": "ipython",
    "version": 3
   },
   "file_extension": ".py",
   "mimetype": "text/x-python",
   "name": "python",
   "nbconvert_exporter": "python",
   "pygments_lexer": "ipython3",
   "version": "3.12.4"
  }
 },
 "nbformat": 4,
 "nbformat_minor": 4
}
